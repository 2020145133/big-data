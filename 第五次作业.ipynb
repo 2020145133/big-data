{
 "cells": [
  {
   "cell_type": "code",
   "execution_count": 2,
   "id": "8b2237c5",
   "metadata": {},
   "outputs": [
    {
     "name": "stdout",
     "output_type": "stream",
     "text": [
      "请输入第一个人的名字刘欢\n",
      "请输入第二个人的名字张瑞\n"
     ]
    },
    {
     "data": {
      "text/html": [
       "<table border=\"1\" class=\"dataframe\">\n",
       "    <thead>\n",
       "        <tr>\n",
       "            <th>考试序号</th> <th>姓名</th>\n",
       "        </tr>\n",
       "    </thead>\n",
       "    <tbody>\n",
       "        <tr>\n",
       "            <td>1   </td> <td>176 </td>\n",
       "        </tr>\n",
       "        <tr>\n",
       "            <td>2   </td> <td>259 </td>\n",
       "        </tr>\n",
       "        <tr>\n",
       "            <td>3   </td> <td>213 </td>\n",
       "        </tr>\n",
       "        <tr>\n",
       "            <td>4   </td> <td>597 </td>\n",
       "        </tr>\n",
       "        <tr>\n",
       "            <td>5   </td> <td>210 </td>\n",
       "        </tr>\n",
       "        <tr>\n",
       "            <td>6   </td> <td>296 </td>\n",
       "        </tr>\n",
       "        <tr>\n",
       "            <td>7   </td> <td>324 </td>\n",
       "        </tr>\n",
       "    </tbody>\n",
       "</table>"
      ],
      "text/plain": [
       "<IPython.core.display.HTML object>"
      ]
     },
     "metadata": {},
     "output_type": "display_data"
    },
    {
     "data": {
      "text/html": [
       "<table border=\"1\" class=\"dataframe\">\n",
       "    <thead>\n",
       "        <tr>\n",
       "            <th>考试序号</th> <th>姓名</th>\n",
       "        </tr>\n",
       "    </thead>\n",
       "    <tbody>\n",
       "        <tr>\n",
       "            <td>1   </td> <td>430 </td>\n",
       "        </tr>\n",
       "        <tr>\n",
       "            <td>2   </td> <td>317 </td>\n",
       "        </tr>\n",
       "        <tr>\n",
       "            <td>3   </td> <td>182 </td>\n",
       "        </tr>\n",
       "        <tr>\n",
       "            <td>4   </td> <td>391 </td>\n",
       "        </tr>\n",
       "        <tr>\n",
       "            <td>5   </td> <td>303 </td>\n",
       "        </tr>\n",
       "        <tr>\n",
       "            <td>6   </td> <td>471 </td>\n",
       "        </tr>\n",
       "        <tr>\n",
       "            <td>7   </td> <td>370 </td>\n",
       "        </tr>\n",
       "    </tbody>\n",
       "</table>"
      ],
      "text/plain": [
       "<IPython.core.display.HTML object>"
      ]
     },
     "metadata": {},
     "output_type": "display_data"
    }
   ],
   "source": [
    "from datascience import *\n",
    "import matplotlib.pyplot as plt\n",
    "import matplotlib\n",
    "matplotlib.use('TkAgg')\n",
    "\n",
    "def extract_rank(data,name):\n",
    "    temp = data.where('姓名',are.equal_to(name)).column(11).item(0)\n",
    "    return temp\n",
    "    \n",
    "\n",
    "data1=Table.read_table('C:/Users/MECHREVO/Desktop/20211105-utf-8.csv')\n",
    "data2=Table.read_table('C:/Users/MECHREVO/Desktop/20211106-utf-8.csv')\n",
    "data3=Table.read_table('C:/Users/MECHREVO/Desktop/20211107-utf-8.csv')\n",
    "data4=Table.read_table('C:/Users/MECHREVO/Desktop/20211108-utf-8.csv')\n",
    "data5=Table.read_table('C:/Users/MECHREVO/Desktop/20211109-utf-8.csv')\n",
    "data6=Table.read_table('C:/Users/MECHREVO/Desktop/20211109-1-utf-8.csv')\n",
    "data7=Table.read_table('C:/Users/MECHREVO/Desktop/20211110-utf-8.csv')\n",
    "\n",
    "name1 = input(\"请输入第一个人的名字\")\n",
    "name2 = input(\"请输入第二个人的名字\")\n",
    "\n",
    "rank1 = extract_rank(data1,name1)\n",
    "rank2 = extract_rank(data2,name1)\n",
    "rank3 = extract_rank(data3,name1)\n",
    "rank4 = extract_rank(data4,name1)\n",
    "rank5 = extract_rank(data5,name1)\n",
    "rank6 = extract_rank(data6,name1)\n",
    "rank7 = extract_rank(data7,name1)\n",
    "\n",
    "rank11 = extract_rank(data1,name2)\n",
    "rank22 = extract_rank(data2,name2)\n",
    "rank33 = extract_rank(data3,name2)\n",
    "rank44 = extract_rank(data4,name2)\n",
    "rank55 = extract_rank(data5,name2)\n",
    "rank66 = extract_rank(data6,name2)\n",
    "rank77 = extract_rank(data7,name2)\n",
    "\n",
    "\n",
    "rank_array = make_array(rank1,rank2,rank3,rank4,rank5,rank6,rank7)\n",
    "rank_array2 = make_array(rank11,rank22,rank33,rank44,rank55,rank66,rank77)\n",
    "\n",
    "results1 = Table().with_columns('考试序号',make_array(1,2,3,4,5,6,7),'姓名',rank_array)\n",
    "results2 = Table().with_columns('考试序号',make_array(1,2,3,4,5,6,7),'姓名',rank_array2)\n",
    "results1.show()\n",
    "results2.show()\n",
    "\n",
    "plt.plot(make_array(1,2,3,4,5,6,7),rank_array,'o--',label=name1)\n",
    "plt.plot(make_array(1,2,3,4,5,6,7),rank_array2,'o--',label=name2)\n",
    "\n",
    "plt.xlabel('历次考试')\n",
    "plt.ylabel('年级RANK')\n",
    "\n",
    "plt.axis([0,10,650,150])\n",
    "plt.legend(loc='upper right')\n",
    "\n",
    "plt.rcParams['font.sans-serif']=['Microsoft YaHei']\n",
    "\n",
    "plt.grid()\n",
    "plt.show()\n"
   ]
  },
  {
   "cell_type": "code",
   "execution_count": null,
   "id": "5741efd0",
   "metadata": {},
   "outputs": [],
   "source": []
  }
 ],
 "metadata": {
  "kernelspec": {
   "display_name": "Python 3 (ipykernel)",
   "language": "python",
   "name": "python3"
  },
  "language_info": {
   "codemirror_mode": {
    "name": "ipython",
    "version": 3
   },
   "file_extension": ".py",
   "mimetype": "text/x-python",
   "name": "python",
   "nbconvert_exporter": "python",
   "pygments_lexer": "ipython3",
   "version": "3.10.7"
  }
 },
 "nbformat": 4,
 "nbformat_minor": 5
}
